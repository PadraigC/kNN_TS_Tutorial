{
 "cells": [
  {
   "cell_type": "markdown",
   "metadata": {},
   "source": [
    "# k-Nearest Neighbour on Time-Series data\n",
    "Authors: Vivek Mahato & Pádraig Cunningham  \n",
    "You will need to install `tslearn`  \n",
    "`conda install -c conda-forge tslearn`   \n",
    "As of 28/01/2021 tslearn requires Python 3.8   \n",
    "`conda install python=3.8`\n",
    "\n",
    "\n",
    "## Contents\n",
    "\n",
    "1. Read IR_data.\n",
    "2. Visualize raster scans.\n",
    "3. Smooth/Filter the data.\n",
    "4. Hyper-parameter tuning (Model Selection). "
   ]
  },
  {
   "cell_type": "code",
   "execution_count": null,
   "metadata": {
    "ExecuteTime": {
     "end_time": "2020-09-20T12:56:28.992470Z",
     "start_time": "2020-09-20T12:56:28.766714Z"
    }
   },
   "outputs": [],
   "source": [
    "import numpy as np\n",
    "import random\n",
    "import pandas as pd\n",
    "from collections import Counter\n",
    "import matplotlib.pyplot as plt\n",
    "%matplotlib inline"
   ]
  },
  {
   "cell_type": "markdown",
   "metadata": {},
   "source": [
    "## Reading Data\n",
    "\n",
    "We would be using Pandas package to read the IR_data.csv and represent it in a DataFrame (Table) format.  \n",
    "For more info on DataFrame and its functions visit: https://bit.ly/2RKLtd0\n"
   ]
  },
  {
   "cell_type": "markdown",
   "metadata": {},
   "source": [
    "## Extract the class labels into a different variable"
   ]
  },
  {
   "cell_type": "code",
   "execution_count": null,
   "metadata": {
    "ExecuteTime": {
     "end_time": "2020-09-20T12:56:30.730346Z",
     "start_time": "2020-09-20T12:56:30.692455Z"
    }
   },
   "outputs": [],
   "source": [
    "X = pd.read_csv(\"IR_data.csv\", index_col=0, header=0)\n",
    "y = X[\"class\"].values\n",
    "X.drop([\"class\"] , axis=1, inplace=True)\n",
    "X.head(5)"
   ]
  },
  {
   "cell_type": "markdown",
   "metadata": {},
   "source": [
    "## Filtering The Data"
   ]
  },
  {
   "cell_type": "markdown",
   "metadata": {},
   "source": [
    "We would be using a low-pass Butterworth filter to remove any possible noise from the IR-data, and smoothen it.  \n",
    "To learn how a Butterworth filter works, visit: https://bit.ly/3kBv0Uy"
   ]
  },
  {
   "cell_type": "code",
   "execution_count": null,
   "metadata": {
    "ExecuteTime": {
     "end_time": "2020-09-20T12:56:35.631099Z",
     "start_time": "2020-09-20T12:56:35.110938Z"
    }
   },
   "outputs": [],
   "source": [
    "from scipy.signal import butter, freqz, lfilter\n",
    "\n",
    "def butter_lowpass(cutoff, fs, order=5):\n",
    "    nyq = 0.5 * fs\n",
    "    normal_cutoff = cutoff / nyq\n",
    "    b, a = butter(order, normal_cutoff, btype='low', analog=False)\n",
    "    return b, a\n",
    "\n",
    "def butter_lowpass_filter(data, cutoff, fs, order=5):\n",
    "    b, a = butter_lowpass(cutoff, fs, order=order)\n",
    "    y = lfilter(b, a, data)\n",
    "    return y"
   ]
  },
  {
   "cell_type": "markdown",
   "metadata": {},
   "source": [
    "## Filtering the entire dataset "
   ]
  },
  {
   "cell_type": "code",
   "execution_count": null,
   "metadata": {
    "ExecuteTime": {
     "end_time": "2020-09-20T12:56:38.485758Z",
     "start_time": "2020-09-20T12:56:38.480846Z"
    }
   },
   "outputs": [],
   "source": [
    "order = 4\n",
    "fs = 100.0\n",
    "cutoff = 10"
   ]
  },
  {
   "cell_type": "code",
   "execution_count": null,
   "metadata": {
    "ExecuteTime": {
     "end_time": "2020-09-20T12:56:40.344453Z",
     "start_time": "2020-09-20T12:56:39.180230Z"
    }
   },
   "outputs": [],
   "source": [
    "X_fltr = pd.DataFrame(columns=range(300))\n",
    "for idx,row in X.iterrows():\n",
    "    row_fltr = butter_lowpass_filter(row,cutoff=cutoff,fs=fs,order=order)\n",
    "    X_fltr.loc[idx] = row_fltr"
   ]
  },
  {
   "cell_type": "code",
   "execution_count": null,
   "metadata": {
    "ExecuteTime": {
     "end_time": "2020-09-20T12:56:40.929319Z",
     "start_time": "2020-09-20T12:56:40.883495Z"
    }
   },
   "outputs": [],
   "source": [
    "X_fltr.head(5)"
   ]
  },
  {
   "cell_type": "markdown",
   "metadata": {},
   "source": [
    "# k-NN Classification\n",
    "\n",
    "We will be using k-NN Time-Series Classifier (https://bit.ly/3kyYQcx) from the tslearn package. \n",
    "\n",
    "We shall use two version of this classifier: \n",
    "<ol>\n",
    "<li>Using Euclidean as our distance metric</li>\n",
    "<li>Using Dynamic Time Warping (DTW) as the distance measure</li>\n",
    "</ol> "
   ]
  },
  {
   "cell_type": "code",
   "execution_count": null,
   "metadata": {
    "ExecuteTime": {
     "end_time": "2020-09-20T12:56:43.620216Z",
     "start_time": "2020-09-20T12:56:42.275586Z"
    }
   },
   "outputs": [],
   "source": [
    "from tslearn.neighbors import KNeighborsTimeSeriesClassifier\n",
    "from sklearn.metrics import roc_curve, auc, accuracy_score\n",
    "from sklearn.model_selection import train_test_split, GridSearchCV"
   ]
  },
  {
   "cell_type": "markdown",
   "metadata": {},
   "source": [
    "## Hold-Out Testing"
   ]
  },
  {
   "cell_type": "code",
   "execution_count": null,
   "metadata": {
    "ExecuteTime": {
     "end_time": "2020-09-20T12:56:48.655375Z",
     "start_time": "2020-09-20T12:56:48.645102Z"
    }
   },
   "outputs": [],
   "source": [
    "X_train, X_test, y_train, y_test = train_test_split(X_fltr.values, y, test_size=0.33, random_state=42)"
   ]
  },
  {
   "cell_type": "markdown",
   "metadata": {},
   "source": [
    "### Euclidean"
   ]
  },
  {
   "cell_type": "code",
   "execution_count": null,
   "metadata": {
    "ExecuteTime": {
     "end_time": "2020-09-20T12:56:53.909890Z",
     "start_time": "2020-09-20T12:56:53.864274Z"
    }
   },
   "outputs": [],
   "source": [
    "EkNN = KNeighborsTimeSeriesClassifier(n_neighbors=5,metric='euclidean', n_jobs=-1)\n",
    "EkNN = EkNN.fit(X_train,y_train)\n",
    "Ey_hat = EkNN.predict(X_test)"
   ]
  },
  {
   "cell_type": "markdown",
   "metadata": {},
   "source": [
    "#### Calculate accuracy of the model"
   ]
  },
  {
   "cell_type": "code",
   "execution_count": null,
   "metadata": {
    "ExecuteTime": {
     "end_time": "2020-09-20T12:57:07.793836Z",
     "start_time": "2020-09-20T12:57:07.780145Z"
    }
   },
   "outputs": [],
   "source": [
    "euc_accuracy = accuracy_score(y_test,Ey_hat)*100\n",
    "print(\"Model Accuracy = {:.2f}%\".format(euc_accuracy))"
   ]
  },
  {
   "cell_type": "markdown",
   "metadata": {},
   "source": [
    "### DTW"
   ]
  },
  {
   "cell_type": "code",
   "execution_count": null,
   "metadata": {
    "ExecuteTime": {
     "end_time": "2020-09-20T12:57:21.647294Z",
     "start_time": "2020-09-20T12:57:12.830108Z"
    }
   },
   "outputs": [],
   "source": [
    "metric_params = {'global_constraint': 'sakoe_chiba', 'sakoe_chiba_radius': 5}\n",
    "DkNN = KNeighborsTimeSeriesClassifier(n_neighbors=5,metric='dtw', metric_params=metric_params, n_jobs=-1)\n",
    "DkNN = DkNN.fit(X_train,y_train)\n",
    "Dy_hat = DkNN.predict(X_test)"
   ]
  },
  {
   "cell_type": "markdown",
   "metadata": {},
   "source": [
    "#### Calculate the accuracy of the model"
   ]
  },
  {
   "cell_type": "code",
   "execution_count": null,
   "metadata": {
    "ExecuteTime": {
     "end_time": "2020-09-20T12:57:23.150459Z",
     "start_time": "2020-09-20T12:57:23.143642Z"
    }
   },
   "outputs": [],
   "source": [
    "dtw_accuracy = accuracy_score(y_test,Dy_hat)*100\n",
    "print(\"Model Accuracy = {:.2f}%\".format(dtw_accuracy))"
   ]
  },
  {
   "cell_type": "markdown",
   "metadata": {},
   "source": [
    "### Compare the two models"
   ]
  },
  {
   "cell_type": "markdown",
   "metadata": {},
   "source": [
    "## ROC\n",
    "`roc_curve` produces the figures to draw the ROC curves.  \n",
    "`auc` calculates the AUC score for that ROC curve. "
   ]
  },
  {
   "cell_type": "code",
   "execution_count": null,
   "metadata": {},
   "outputs": [],
   "source": [
    "Ey_score = EkNN.fit(X_train, y_train).predict_proba(X_test)\n",
    "fprE, tprE, t = roc_curve(y_test, Ey_score[:,1])\n",
    "roc_aucE = auc(fprE, tprE)"
   ]
  },
  {
   "cell_type": "code",
   "execution_count": null,
   "metadata": {},
   "outputs": [],
   "source": [
    "Dy_score = DkNN.fit(X_train, y_train).predict_proba(X_test)\n",
    "fprD, tprD, t = roc_curve(y_test, Dy_score[:,1])\n",
    "roc_aucD = auc(fprD, tprD)"
   ]
  },
  {
   "cell_type": "code",
   "execution_count": null,
   "metadata": {},
   "outputs": [],
   "source": [
    "import matplotlib.pyplot as plt\n",
    "%matplotlib inline\n",
    "plt.figure()\n",
    "lw = 2\n",
    "plt.plot(fprE, tprE, color='red',\n",
    "         lw=lw, label='ROC Euc (area = %0.2f)' % roc_aucE)\n",
    "plt.plot(fprD, tprD, color='green',\n",
    "         lw=lw, label='ROC DTW (area = %0.2f)' % roc_aucD)\n",
    "\n",
    "plt.plot([0, 1], [0, 1], color='navy', lw=lw, linestyle='--')\n",
    "plt.xlim([0.0, 1.0])\n",
    "plt.ylim([0.0, 1.0])\n",
    "plt.xlabel('False Positive Rate')\n",
    "plt.ylabel('True Positive Rate')\n",
    "plt.title('ROC Analysis for the IR data')\n",
    "plt.legend(loc=\"lower right\")\n",
    "plt.show()"
   ]
  },
  {
   "cell_type": "code",
   "execution_count": null,
   "metadata": {
    "ExecuteTime": {
     "end_time": "2020-09-20T12:57:31.269372Z",
     "start_time": "2020-09-20T12:57:31.056678Z"
    }
   },
   "outputs": [],
   "source": [
    "fig = plt.figure(figsize=(6,5))\n",
    "model = ['Euclidean', 'DTW']\n",
    "accuracies = [euc_accuracy,dtw_accuracy]\n",
    "plt.bar(model,accuracies)\n",
    "plt.title(\"Model Comparison\")\n",
    "plt.ylabel(\"Accuracy (%)\")\n",
    "plt.show()"
   ]
  },
  {
   "cell_type": "markdown",
   "metadata": {},
   "source": [
    "# Tuning parameters of the models\n",
    "\n",
    "We will use `GridSearchCV` to perform grid search on the parameter options.  \n",
    "For Euclidean distance we consder 10 options for `k` and two weighting options.  \n",
    "So the grid has 10 x 2 options."
   ]
  },
  {
   "cell_type": "markdown",
   "metadata": {},
   "source": [
    "## Euclidean\n",
    "Defining the parameter grid. "
   ]
  },
  {
   "cell_type": "code",
   "execution_count": null,
   "metadata": {
    "ExecuteTime": {
     "end_time": "2020-09-20T12:38:15.321032Z",
     "start_time": "2020-09-20T12:38:15.309567Z"
    }
   },
   "outputs": [],
   "source": [
    "param_grid = {\n",
    "    \"n_neighbors\" : np.arange(1,20,2),\n",
    "    \"weights\" : [\"uniform\", \"distance\"]\n",
    "}\n",
    "param_grid"
   ]
  },
  {
   "cell_type": "code",
   "execution_count": null,
   "metadata": {
    "ExecuteTime": {
     "end_time": "2020-09-20T12:38:15.995582Z",
     "start_time": "2020-09-20T12:38:15.610912Z"
    }
   },
   "outputs": [],
   "source": [
    "model = KNeighborsTimeSeriesClassifier(metric='euclidean', n_jobs=-1)\n",
    "gs_model = GridSearchCV(model, param_grid,scoring=\"accuracy\", cv=5, n_jobs=-1)\n",
    "gs_model.fit(X_train, y_train) # The grid search returns an actual model. \n",
    "print(\"Best parameters: \",gs_model.best_params_)\n",
    "print(\"Accuracy: \",gs_model.best_score_)"
   ]
  },
  {
   "cell_type": "markdown",
   "metadata": {},
   "source": [
    "### Held-out test data\n",
    "Providing the model with the best parameters, and evaluating it on the held-out test data."
   ]
  },
  {
   "cell_type": "code",
   "execution_count": null,
   "metadata": {
    "ExecuteTime": {
     "end_time": "2020-09-20T12:57:42.287001Z",
     "start_time": "2020-09-20T12:57:42.240079Z"
    }
   },
   "outputs": [],
   "source": [
    "ETkNN = KNeighborsTimeSeriesClassifier(n_neighbors= 15,metric='euclidean',\n",
    "                                       weights=\"distance\", n_jobs=-1)\n",
    "ETkNN = ETkNN.fit(X_train, y_train)\n",
    "y_hat = ETkNN.predict(X_test)"
   ]
  },
  {
   "cell_type": "markdown",
   "metadata": {},
   "source": [
    "#### Accuracy of the model"
   ]
  },
  {
   "cell_type": "code",
   "execution_count": null,
   "metadata": {
    "ExecuteTime": {
     "end_time": "2020-09-20T12:57:44.055121Z",
     "start_time": "2020-09-20T12:57:44.048771Z"
    }
   },
   "outputs": [],
   "source": [
    "euc_accuracy_tuned = accuracy_score(y_test,y_hat)*100\n",
    "print(\"Model Accuracy = {:.2f}%\".format(euc_accuracy_tuned))"
   ]
  },
  {
   "cell_type": "markdown",
   "metadata": {},
   "source": [
    "## DTW \n",
    "The DTW grid is more complicated because DTW has a parameter that has two components,  \n",
    "the warping constraint and then the radius for that constraint. "
   ]
  },
  {
   "cell_type": "code",
   "execution_count": null,
   "metadata": {
    "ExecuteTime": {
     "end_time": "2020-09-20T12:40:43.773515Z",
     "start_time": "2020-09-20T12:40:43.760173Z"
    }
   },
   "outputs": [],
   "source": [
    "m_params = []\n",
    "for i in np.arange(1,10,2): #np.arange(1,25,2):\n",
    "    m_params.append({\n",
    "                \"global_constraint\": \"sakoe_chiba\",\n",
    "                \"sakoe_chiba_radius\": i\n",
    "            })\n",
    "\n",
    "\n",
    "param_grid = {\n",
    "    \"n_neighbors\" : [1,3,7], #np.arange(1,20,2),\n",
    "    \"weights\":[\"uniform\",\"distance\"],\n",
    "    \"metric_params\": m_params\n",
    "}\n",
    "param_grid"
   ]
  },
  {
   "cell_type": "code",
   "execution_count": null,
   "metadata": {
    "ExecuteTime": {
     "end_time": "2020-09-20T12:46:05.399606Z",
     "start_time": "2020-09-20T12:41:12.834599Z"
    }
   },
   "outputs": [],
   "source": [
    "model = KNeighborsTimeSeriesClassifier(metric='dtw', n_jobs=-1)\n",
    "gs_model = GridSearchCV(model, param_grid,scoring=\"accuracy\", cv=5, n_jobs=-1)\n",
    "gs_model.fit(X_train, y_train)\n",
    "print(\"Best parameters: \",gs_model.best_params_)\n",
    "print(\"Accuracy: \",gs_model.best_score_)"
   ]
  },
  {
   "cell_type": "code",
   "execution_count": null,
   "metadata": {
    "ExecuteTime": {
     "end_time": "2020-09-20T12:57:54.828815Z",
     "start_time": "2020-09-20T12:57:48.978640Z"
    }
   },
   "outputs": [],
   "source": [
    "metric_params = {'global_constraint': 'sakoe_chiba', 'sakoe_chiba_radius': 21}\n",
    "\n",
    "DTkNN = KNeighborsTimeSeriesClassifier(n_neighbors=3,weights=\"distance\",\n",
    "                                       metric='dtw',\n",
    "                                       metric_params=metric_params,\n",
    "                                       n_jobs=-1)\n",
    "DTkNN = DTkNN.fit(X_train, y_train)\n",
    "y_hat = DTkNN.predict(X_test)"
   ]
  },
  {
   "cell_type": "markdown",
   "metadata": {},
   "source": [
    "#### Accuracy of the model"
   ]
  },
  {
   "cell_type": "code",
   "execution_count": null,
   "metadata": {
    "ExecuteTime": {
     "end_time": "2020-09-20T12:57:56.216632Z",
     "start_time": "2020-09-20T12:57:56.209802Z"
    }
   },
   "outputs": [],
   "source": [
    "dtw_accuracy_tuned = accuracy_score(y_test,y_hat)*100\n",
    "print(\"Model Accuracy = {:.2f}%\".format(dtw_accuracy_tuned))"
   ]
  },
  {
   "cell_type": "markdown",
   "metadata": {},
   "source": [
    "## Compare the models"
   ]
  },
  {
   "cell_type": "code",
   "execution_count": null,
   "metadata": {
    "ExecuteTime": {
     "end_time": "2020-09-20T13:12:09.553342Z",
     "start_time": "2020-09-20T13:12:09.288795Z"
    }
   },
   "outputs": [],
   "source": [
    "model_acc = [euc_accuracy,dtw_accuracy]\n",
    "model_tuned_acc = [euc_accuracy_tuned,dtw_accuracy_tuned]\n",
    "rows = [\"Euclidean\",\"DTW\"]\n",
    "\n",
    "barWidth = 0.25\n",
    "\n",
    "r1 = np.arange(len(model_acc))\n",
    "r2 = [x + barWidth for x in r1]\n",
    "y_pos = []\n",
    "\n",
    "for i in range(len(r1)):\n",
    "    y_pos.append((r1[i]+r2[i])/2)\n",
    "\n",
    "\n",
    "fig, ax = plt.subplots(figsize=(7,5))\n",
    "plt.xticks(y_pos, rows)\n",
    "\n",
    "ax.bar(r1, model_acc, color='skyblue', label='Vanilla Version',width = 0.2)\n",
    "ax.bar(r2, model_tuned_acc, color='steelblue', label='Tuned Version',width = 0.2)\n",
    "ax.set_ylabel('Accuracy (%)')\n",
    "\n",
    "ax.set_ylim(0,100)\n",
    "\n",
    "plt.title(\"Model Comparison\")\n",
    "\n",
    "ax.legend( loc=\"upper left\", ncol = 2, fontsize=12)\n",
    "\n",
    "plt.show()"
   ]
  },
  {
   "cell_type": "markdown",
   "metadata": {},
   "source": [
    "## ROC"
   ]
  },
  {
   "cell_type": "code",
   "execution_count": null,
   "metadata": {},
   "outputs": [],
   "source": [
    "Ey_score = EkNN.fit(X_train, y_train).predict_proba(X_test)\n",
    "fprE, tprE, t = roc_curve(y_test, Ey_score[:,1])\n",
    "roc_aucE = auc(fprE, tprE)"
   ]
  },
  {
   "cell_type": "code",
   "execution_count": null,
   "metadata": {},
   "outputs": [],
   "source": [
    "ETy_score = ETkNN.fit(X_train, y_train).predict_proba(X_test)\n",
    "fprET, tprET, t = roc_curve(y_test, ETy_score[:,1])\n",
    "roc_aucET = auc(fprET, tprET)"
   ]
  },
  {
   "cell_type": "code",
   "execution_count": null,
   "metadata": {},
   "outputs": [],
   "source": [
    "Dy_score = DkNN.fit(X_train, y_train).predict_proba(X_test)\n",
    "fprD, tprD, t = roc_curve(y_test, Dy_score[:,1])\n",
    "roc_aucD = auc(fprD, tprD)"
   ]
  },
  {
   "cell_type": "code",
   "execution_count": null,
   "metadata": {},
   "outputs": [],
   "source": [
    "DTy_score = DTkNN.fit(X_train, y_train).predict_proba(X_test)\n",
    "fprDT, tprDT, t = roc_curve(y_test, DTy_score[:,1])\n",
    "roc_aucDT = auc(fprDT, tprDT)"
   ]
  },
  {
   "cell_type": "code",
   "execution_count": null,
   "metadata": {},
   "outputs": [],
   "source": [
    "import matplotlib.pyplot as plt\n",
    "%matplotlib inline\n",
    "plt.figure()\n",
    "lw = 2\n",
    "plt.plot(fprE, tprE, color='red',\n",
    "         lw=lw, linestyle='--', label='ROC Euc (area = %0.2f)' % roc_aucE)\n",
    "plt.plot(fprET, tprET, color='red',\n",
    "         lw=lw, label='ROC Euc Tuned(area = %0.2f)' % roc_aucET)\n",
    "\n",
    "plt.plot(fprD, tprD, color='green',\n",
    "         lw=lw, linestyle='--', label='ROC DTW (area = %0.2f)' % roc_aucD)\n",
    "plt.plot(fprDT, tprDT, color='green',\n",
    "         lw=lw, label='ROC DTW Tuned (area = %0.2f)' % roc_aucDT)\n",
    "\n",
    "\n",
    "plt.plot([0, 1], [0, 1], color='navy', lw=lw, linestyle='--')\n",
    "plt.xlim([0.0, 1.0])\n",
    "plt.ylim([0.0, 1.0])\n",
    "plt.xlabel('False Positive Rate')\n",
    "plt.ylabel('True Positive Rate')\n",
    "plt.title('ROC Analysis for IR data')\n",
    "plt.legend(loc=\"lower right\")\n",
    "plt.show()"
   ]
  }
 ],
 "metadata": {
  "kernelspec": {
   "display_name": "Python 3",
   "language": "python",
   "name": "python3"
  },
  "language_info": {
   "codemirror_mode": {
    "name": "ipython",
    "version": 3
   },
   "file_extension": ".py",
   "mimetype": "text/x-python",
   "name": "python",
   "nbconvert_exporter": "python",
   "pygments_lexer": "ipython3",
   "version": "3.8.5"
  },
  "toc": {
   "base_numbering": 1,
   "nav_menu": {},
   "number_sections": true,
   "sideBar": true,
   "skip_h1_title": false,
   "title_cell": "Table of Contents",
   "title_sidebar": "Contents",
   "toc_cell": false,
   "toc_position": {},
   "toc_section_display": true,
   "toc_window_display": false
  },
  "varInspector": {
   "cols": {
    "lenName": 16,
    "lenType": 16,
    "lenVar": 40
   },
   "kernels_config": {
    "python": {
     "delete_cmd_postfix": "",
     "delete_cmd_prefix": "del ",
     "library": "var_list.py",
     "varRefreshCmd": "print(var_dic_list())"
    },
    "r": {
     "delete_cmd_postfix": ") ",
     "delete_cmd_prefix": "rm(",
     "library": "var_list.r",
     "varRefreshCmd": "cat(var_dic_list()) "
    }
   },
   "types_to_exclude": [
    "module",
    "function",
    "builtin_function_or_method",
    "instance",
    "_Feature"
   ],
   "window_display": false
  }
 },
 "nbformat": 4,
 "nbformat_minor": 4
}
