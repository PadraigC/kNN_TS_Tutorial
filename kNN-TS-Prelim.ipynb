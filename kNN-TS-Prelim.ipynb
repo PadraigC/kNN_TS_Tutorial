{
 "cells": [
  {
   "cell_type": "markdown",
   "metadata": {},
   "source": [
    "# k-Nearest Neighbour on Time-Series data\n",
    "## Contents\n",
    "\n",
    "1. Read IR_data.\n",
    "2. Visualize raster scans.\n",
    "3. Smooth/Filter the data.\n",
    "4. Hold out test using Euclidean distance and DTW.\n",
    "5. Hyper-parameter tuning. "
   ]
  },
  {
   "cell_type": "code",
   "execution_count": null,
   "metadata": {
    "ExecuteTime": {
     "end_time": "2020-09-20T12:56:28.992470Z",
     "start_time": "2020-09-20T12:56:28.766714Z"
    }
   },
   "outputs": [],
   "source": [
    "import numpy as np\n",
    "import random\n",
    "import pandas as pd\n",
    "from collections import Counter"
   ]
  },
  {
   "cell_type": "markdown",
   "metadata": {},
   "source": [
    "## Reading Data\n",
    "\n",
    "We would be using Pandas package to read the IR_data.csv and represent it in a DataFrame (Table) format.  \n",
    "For more info on DataFrame and its functions visit: https://bit.ly/2RKLtd0\n"
   ]
  },
  {
   "cell_type": "code",
   "execution_count": null,
   "metadata": {
    "ExecuteTime": {
     "end_time": "2020-09-20T12:56:29.765387Z",
     "start_time": "2020-09-20T12:56:29.471313Z"
    },
    "scrolled": true
   },
   "outputs": [],
   "source": [
    "X = pd.read_csv(\"IR_data.csv\", index_col=0, header=0)\n",
    "X.head(5) #display top 5 rows"
   ]
  },
  {
   "cell_type": "markdown",
   "metadata": {},
   "source": [
    "As we can see in the table above, the row is a time-series, from column 0-299, and the class/label of that series in the column \"class\". Where the class is either 0 (non-pore) or 1 (pore)."
   ]
  },
  {
   "cell_type": "markdown",
   "metadata": {},
   "source": [
    "## Extract the class labels into a different variable"
   ]
  },
  {
   "cell_type": "code",
   "execution_count": null,
   "metadata": {
    "ExecuteTime": {
     "end_time": "2020-09-20T12:56:30.730346Z",
     "start_time": "2020-09-20T12:56:30.692455Z"
    }
   },
   "outputs": [],
   "source": [
    "y = X[\"class\"].values\n",
    "X.drop([\"class\"] , axis=1, inplace=True)\n",
    "X.head(5)"
   ]
  },
  {
   "cell_type": "markdown",
   "metadata": {},
   "source": [
    "Data samples are padded with zeros so that all samples are the same length. "
   ]
  },
  {
   "cell_type": "code",
   "execution_count": null,
   "metadata": {},
   "outputs": [],
   "source": [
    "X[1:3].T.plot()"
   ]
  },
  {
   "cell_type": "markdown",
   "metadata": {},
   "source": [
    "# Visualize Raster Scan"
   ]
  },
  {
   "cell_type": "code",
   "execution_count": null,
   "metadata": {
    "ExecuteTime": {
     "end_time": "2020-09-20T12:56:32.021025Z",
     "start_time": "2020-09-20T12:56:31.692472Z"
    }
   },
   "outputs": [],
   "source": [
    "import matplotlib.pyplot as plt\n",
    "%matplotlib inline"
   ]
  },
  {
   "cell_type": "markdown",
   "metadata": {},
   "source": [
    "Let's visualize the data from first row, after removing the trailing zeroes (for a better representation)."
   ]
  },
  {
   "cell_type": "code",
   "execution_count": null,
   "metadata": {
    "ExecuteTime": {
     "end_time": "2020-09-20T12:56:32.628038Z",
     "start_time": "2020-09-20T12:56:32.621681Z"
    }
   },
   "outputs": [],
   "source": [
    "data = X.loc[0]\n",
    "index = np.where(data==0)[0][0]\n",
    "data = data[:index]"
   ]
  },
  {
   "cell_type": "code",
   "execution_count": null,
   "metadata": {
    "ExecuteTime": {
     "end_time": "2020-09-20T12:56:33.800918Z",
     "start_time": "2020-09-20T12:56:33.338744Z"
    }
   },
   "outputs": [],
   "source": [
    "plt.figure(figsize=(15,5))\n",
    "plt.title(\"Raster Scan\")\n",
    "plt.xlabel(\"#Data-points\")\n",
    "plt.ylabel(\"Emissivity (mV)\")\n",
    "plt.plot(data, c=\"red\")\n",
    "plt.xticks(np.arange(0,300,50))\n",
    "plt.show()"
   ]
  },
  {
   "cell_type": "markdown",
   "metadata": {},
   "source": [
    "## Filtering The Data"
   ]
  },
  {
   "cell_type": "markdown",
   "metadata": {},
   "source": [
    "We would be using a low-pass Butterworth filter to remove any possible noise from the IR-data, and smoothen it.  \n",
    "To learn how a Butterworth filter works, visit: https://bit.ly/3kBv0Uy"
   ]
  },
  {
   "cell_type": "code",
   "execution_count": null,
   "metadata": {
    "ExecuteTime": {
     "end_time": "2020-09-20T12:56:35.631099Z",
     "start_time": "2020-09-20T12:56:35.110938Z"
    }
   },
   "outputs": [],
   "source": [
    "from scipy.signal import butter, freqz, lfilter\n",
    "\n",
    "def butter_lowpass(cutoff, fs, order=5):\n",
    "    nyq = 0.5 * fs\n",
    "    normal_cutoff = cutoff / nyq\n",
    "    b, a = butter(order, normal_cutoff, btype='low', analog=False)\n",
    "    return b, a\n",
    "\n",
    "def butter_lowpass_filter(data, cutoff, fs, order=5):\n",
    "    b, a = butter_lowpass(cutoff, fs, order=order)\n",
    "    y = lfilter(b, a, data)\n",
    "    return y"
   ]
  },
  {
   "cell_type": "code",
   "execution_count": null,
   "metadata": {
    "ExecuteTime": {
     "end_time": "2020-09-20T12:56:36.223877Z",
     "start_time": "2020-09-20T12:56:36.215276Z"
    }
   },
   "outputs": [],
   "source": [
    "data_fltr = butter_lowpass_filter(data,cutoff=10,fs=100.0,order=4)"
   ]
  },
  {
   "cell_type": "code",
   "execution_count": null,
   "metadata": {
    "ExecuteTime": {
     "end_time": "2020-09-20T12:56:37.205607Z",
     "start_time": "2020-09-20T12:56:36.948624Z"
    }
   },
   "outputs": [],
   "source": [
    "trans_done = 20 #skip the data from the transient phase at the beginning of the series.\n",
    "plt.figure(figsize=(15,5))\n",
    "plt.title(\"Raster Scan\")\n",
    "plt.xlabel(\"#Data-points\")\n",
    "plt.ylabel(\"Emissivity (mV)\")\n",
    "plt.plot(data[trans_done:], c=\"red\")\n",
    "plt.plot(data_fltr[trans_done:], c=\"blue\")\n",
    "plt.xticks(np.arange(0,300,50))\n",
    "#plt.ylim([900, 1020])\n",
    "plt.show()"
   ]
  },
  {
   "cell_type": "markdown",
   "metadata": {},
   "source": [
    "## Filtering the entire dataset "
   ]
  },
  {
   "cell_type": "code",
   "execution_count": null,
   "metadata": {
    "ExecuteTime": {
     "end_time": "2020-09-20T12:56:38.485758Z",
     "start_time": "2020-09-20T12:56:38.480846Z"
    }
   },
   "outputs": [],
   "source": [
    "order = 4\n",
    "fs = 100.0\n",
    "cutoff = 10"
   ]
  },
  {
   "cell_type": "code",
   "execution_count": null,
   "metadata": {
    "ExecuteTime": {
     "end_time": "2020-09-20T12:56:40.344453Z",
     "start_time": "2020-09-20T12:56:39.180230Z"
    }
   },
   "outputs": [],
   "source": [
    "X_fltr = pd.DataFrame(columns=range(300))\n",
    "for idx,row in X.iterrows():\n",
    "    row_fltr = butter_lowpass_filter(row,cutoff=cutoff,fs=fs,order=order)\n",
    "    X_fltr.loc[idx] = row_fltr"
   ]
  },
  {
   "cell_type": "code",
   "execution_count": null,
   "metadata": {
    "ExecuteTime": {
     "end_time": "2020-09-20T12:56:40.929319Z",
     "start_time": "2020-09-20T12:56:40.883495Z"
    }
   },
   "outputs": [],
   "source": [
    "X_fltr.head(5)"
   ]
  },
  {
   "cell_type": "markdown",
   "metadata": {},
   "source": [
    "# k-NN Classification\n",
    "\n",
    "We would be using k-NN Time-Series Classifier (https://bit.ly/3kyYQcx) from the tslearn package. \n",
    "\n",
    "We shall use two version of this classifier: \n",
    "<ol>\n",
    "<li>Using Euclidean as our distance metric</li>\n",
    "<li>Using Dynamic Time Warping (DTW) as the distance measure</li>\n",
    "</ol> "
   ]
  },
  {
   "cell_type": "code",
   "execution_count": null,
   "metadata": {
    "ExecuteTime": {
     "end_time": "2020-09-20T12:56:43.620216Z",
     "start_time": "2020-09-20T12:56:42.275586Z"
    }
   },
   "outputs": [],
   "source": [
    "from tslearn.neighbors import KNeighborsTimeSeriesClassifier\n",
    "from sklearn.metrics import roc_curve, auc\n",
    "from sklearn.model_selection import train_test_split\n",
    "from sklearn.metrics import accuracy_score"
   ]
  },
  {
   "cell_type": "markdown",
   "metadata": {},
   "source": [
    "## Hold-Out Testing"
   ]
  },
  {
   "cell_type": "code",
   "execution_count": null,
   "metadata": {
    "ExecuteTime": {
     "end_time": "2020-09-20T12:56:48.655375Z",
     "start_time": "2020-09-20T12:56:48.645102Z"
    }
   },
   "outputs": [],
   "source": [
    "X_train, X_test, y_train, y_test = train_test_split(X_fltr.values, y, test_size=0.33, random_state=42)"
   ]
  },
  {
   "cell_type": "markdown",
   "metadata": {},
   "source": [
    "### Euclidean"
   ]
  },
  {
   "cell_type": "code",
   "execution_count": null,
   "metadata": {
    "ExecuteTime": {
     "end_time": "2020-09-20T12:56:53.909890Z",
     "start_time": "2020-09-20T12:56:53.864274Z"
    }
   },
   "outputs": [],
   "source": [
    "EkNN = KNeighborsTimeSeriesClassifier(n_neighbors=5,metric='euclidean', n_jobs=-1)\n",
    "EkNN = EkNN.fit(X_train,y_train)\n",
    "Ey_hat = EkNN.predict(X_test)\n",
    "euc_accuracy = accuracy_score(y_test,Ey_hat)*100\n",
    "print(\"Model Accuracy = {:.2f}%\".format(euc_accuracy))"
   ]
  },
  {
   "cell_type": "markdown",
   "metadata": {},
   "source": [
    "### DTW"
   ]
  },
  {
   "cell_type": "code",
   "execution_count": null,
   "metadata": {
    "ExecuteTime": {
     "end_time": "2020-09-20T12:57:21.647294Z",
     "start_time": "2020-09-20T12:57:12.830108Z"
    }
   },
   "outputs": [],
   "source": [
    "metric_params = {'global_constraint': 'sakoe_chiba', 'sakoe_chiba_radius': 5}\n",
    "DkNN = KNeighborsTimeSeriesClassifier(n_neighbors=5,metric='dtw', metric_params=metric_params, n_jobs=-1)\n",
    "DkNN = DkNN.fit(X_train,y_train)\n",
    "Dy_hat = DkNN.predict(X_test)\n",
    "dtw_accuracy = accuracy_score(y_test,Dy_hat)*100\n",
    "print(\"Model Accuracy = {:.2f}%\".format(dtw_accuracy))"
   ]
  },
  {
   "cell_type": "markdown",
   "metadata": {},
   "source": [
    "### Compare the two models"
   ]
  },
  {
   "cell_type": "code",
   "execution_count": null,
   "metadata": {
    "ExecuteTime": {
     "end_time": "2020-09-20T12:57:31.269372Z",
     "start_time": "2020-09-20T12:57:31.056678Z"
    }
   },
   "outputs": [],
   "source": [
    "fig = plt.figure(figsize=(6,5))\n",
    "model = ['Euclidean', 'DTW']\n",
    "accuracies = [euc_accuracy,dtw_accuracy]\n",
    "plt.bar(model,accuracies)\n",
    "plt.title(\"Model Comparison\")\n",
    "plt.ylabel(\"Accuracy (%)\")\n",
    "plt.show()"
   ]
  },
  {
   "cell_type": "markdown",
   "metadata": {},
   "source": [
    "## ROC"
   ]
  },
  {
   "cell_type": "code",
   "execution_count": null,
   "metadata": {},
   "outputs": [],
   "source": [
    "Ey_score = EkNN.fit(X_train, y_train).predict_proba(X_test)\n",
    "fprE, tprE, t = roc_curve(y_test, Ey_score[:,1])\n",
    "roc_aucE = auc(fprE, tprE)"
   ]
  },
  {
   "cell_type": "code",
   "execution_count": null,
   "metadata": {},
   "outputs": [],
   "source": [
    "Dy_score = DkNN.fit(X_train, y_train).predict_proba(X_test)\n",
    "fprD, tprD, t = roc_curve(y_test, Dy_score[:,1])\n",
    "roc_aucD = auc(fprD, tprD)"
   ]
  },
  {
   "cell_type": "code",
   "execution_count": null,
   "metadata": {
    "scrolled": true
   },
   "outputs": [],
   "source": [
    "import matplotlib.pyplot as plt\n",
    "%matplotlib inline\n",
    "plt.figure()\n",
    "lw = 2\n",
    "plt.plot(fprE, tprE, color='red',\n",
    "         lw=lw, label='ROC Euc (area = %0.2f)' % roc_aucE)\n",
    "plt.plot(fprD, tprD, color='green',\n",
    "         lw=lw, label='ROC DTW (area = %0.2f)' % roc_aucD)\n",
    "\n",
    "plt.plot([0, 1], [0, 1], color='navy', lw=lw, linestyle='--')\n",
    "plt.xlim([0.0, 1.0])\n",
    "plt.ylim([0.0, 1.0])\n",
    "plt.xlabel('False Positive Rate')\n",
    "plt.ylabel('True Positive Rate')\n",
    "plt.title('ROC Analysis for the IR data')\n",
    "plt.legend(loc=\"lower right\")\n",
    "plt.show()"
   ]
  },
  {
   "cell_type": "markdown",
   "metadata": {},
   "source": [
    "## Exercise  \n",
    "Check to see if smoothing the data (Butterworth Filter) has actually helped classification accuracy.  \n",
    "Update the ROC curves with results for Euclidean distance and DTW on the unfiltered data.   \n",
    "**Hint:** Simply replace `X_fltr` with the original `X` data."
   ]
  }
 ],
 "metadata": {
  "kernelspec": {
   "display_name": "Python 3",
   "language": "python",
   "name": "python3"
  },
  "language_info": {
   "codemirror_mode": {
    "name": "ipython",
    "version": 3
   },
   "file_extension": ".py",
   "mimetype": "text/x-python",
   "name": "python",
   "nbconvert_exporter": "python",
   "pygments_lexer": "ipython3",
   "version": "3.8.3"
  },
  "toc": {
   "base_numbering": 1,
   "nav_menu": {},
   "number_sections": true,
   "sideBar": true,
   "skip_h1_title": false,
   "title_cell": "Table of Contents",
   "title_sidebar": "Contents",
   "toc_cell": false,
   "toc_position": {},
   "toc_section_display": true,
   "toc_window_display": false
  },
  "varInspector": {
   "cols": {
    "lenName": 16,
    "lenType": 16,
    "lenVar": 40
   },
   "kernels_config": {
    "python": {
     "delete_cmd_postfix": "",
     "delete_cmd_prefix": "del ",
     "library": "var_list.py",
     "varRefreshCmd": "print(var_dic_list())"
    },
    "r": {
     "delete_cmd_postfix": ") ",
     "delete_cmd_prefix": "rm(",
     "library": "var_list.r",
     "varRefreshCmd": "cat(var_dic_list()) "
    }
   },
   "types_to_exclude": [
    "module",
    "function",
    "builtin_function_or_method",
    "instance",
    "_Feature"
   ],
   "window_display": false
  }
 },
 "nbformat": 4,
 "nbformat_minor": 4
}
